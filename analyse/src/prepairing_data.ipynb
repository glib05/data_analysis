{
  "cells": [
    {
      "cell_type": "markdown",
      "metadata": {
        "id": "HezUORfnfm9u"
      },
      "source": [
        "\n",
        "\n",
        "# Підготовка даних до аналізу\n",
        "\n",
        "\n",
        "\n",
        "\n"
      ]
    },
    {
      "cell_type": "markdown",
      "metadata": {
        "id": "WflJAvIvfm9y"
      },
      "source": [
        "<h2>Мета</h2>\n",
        "\n",
        "Ознайомитись з методикою первинної обробки даних. Після завершення цієї лабораторної роботи ви зможете:\n",
        "\n",
        "* Досліджувати структуру завантажених даних\n",
        "* Виправляти формати даних\n",
        "* Знаходити та заповнювати пропуски в даних\n",
        "* Знаходити викиди та некоректні значення\n",
        "* Будувати прості візуалізації\n",
        "\n",
        "\n"
      ]
    },
    {
      "cell_type": "markdown",
      "metadata": {
        "id": "t3cpwbSCfm-y"
      },
      "source": [
        "<a name=\"task\"></a>\n",
        "<div class=\"alert alert-danger alertdanger\" style=\"margin-top: 20px\">\n",
        "\n",
        "# <h1 id=\"task\">Завдання, що оцінюються </h1>\n",
        "\n",
        "</div>\n",
        "\n"
      ]
    },
    {
      "cell_type": "markdown",
      "metadata": {
        "id": "0W9A_7wmfm-y"
      },
      "source": [
        "\n",
        "\n",
        "1. Скачати дані із файлу <a href=\"https://drive.google.com/file/d/1Vz4Kkbu4HVMuBKsOz_5gq3C8jYYXA89d/view?usp=drive_link\" target=\"_blank\">'Data2.csv'</a>. Записати дані у dataframe. Дослідити структуру даних.\n",
        "2. Виправити помилки в даних.\n",
        "3. Заповнити пропуски.\n",
        "4. Додати стовпчик із щільністю населення.\n",
        "5. Побудувати діаграми розмаху та гістограми.\n"
      ]
    },
    {
      "cell_type": "markdown",
      "metadata": {
        "id": "-rtCOQf0fm-z"
      },
      "source": [
        "<a name=\"task1\"></a>\n",
        "<div class=\"alert alert-danger alertdanger\" style=\"margin-top: 20px\">\n",
        "\n",
        "## <h2 id=\"task1\">Завдання  #1: </h2>\n",
        "\n",
        "<p>Дослідити структуру даних</p>\n",
        "</div>\n"
      ]
    },
    {
      "cell_type": "markdown",
      "metadata": {
        "id": "2EeVZKjGfm-z"
      },
      "source": [
        "Зчитую дані з файлу у датафрейм\n"
      ]
    },
    {
      "cell_type": "code",
      "execution_count": null,
      "metadata": {
        "id": "fsTCvAv_fm-z",
        "outputId": "30ec682c-f508-4adb-92ec-3d1bb556cecc",
        "colab": {
          "base_uri": "https://localhost:8080/"
        }
      },
      "outputs": [
        {
          "output_type": "stream",
          "name": "stdout",
          "text": [
            "              Country Name                      Region GDP per capita  \\\n",
            "0              Afghanistan                  South Asia    561,7787463   \n",
            "1                  Albania       Europe & Central Asia     4124,98239   \n",
            "2                  Algeria  Middle East & North Africa    3916,881571   \n",
            "3           American Samoa         East Asia & Pacific    11834,74523   \n",
            "4                  Andorra       Europe & Central Asia    36988,62203   \n",
            "..                     ...                         ...            ...   \n",
            "212  Virgin Islands (U.S.)   Latin America & Caribbean            NaN   \n",
            "213     West Bank and Gaza  Middle East & North Africa    2943,404534   \n",
            "214            Yemen, Rep.  Middle East & North Africa     990,334774   \n",
            "215                 Zambia          Sub-Saharan Africa    1269,573537   \n",
            "216               Zimbabwe          Sub-Saharan Africa    1029,076649   \n",
            "\n",
            "     Populatiion CO2 emission     Area  \n",
            "0     34656032.0     9809,225   652860  \n",
            "1      2876101.0     5716,853    28750  \n",
            "2     40606052.0   145400,217  2381740  \n",
            "3        55599.0          NaN      200  \n",
            "4        77281.0      462,042      470  \n",
            "..           ...          ...      ...  \n",
            "212     102951.0          NaN      350  \n",
            "213    4551566.0          NaN     6020  \n",
            "214   27584213.0     22698,73   527970  \n",
            "215   16591390.0     4503,076   752610  \n",
            "216   16150362.0    12020,426   390760  \n",
            "\n",
            "[217 rows x 6 columns]\n"
          ]
        }
      ],
      "source": [
        "# Напишіть ваш код нижче та натисніть Shift+Enter для виконання\n",
        "import pandas as pd\n",
        "import numpy as np\n",
        "\n",
        "df = pd.read_csv(\"Data2.csv\", sep=';', encoding='cp1252')\n",
        "print(df)"
      ]
    },
    {
      "cell_type": "markdown",
      "metadata": {
        "id": "cwBC2AMZfm-z"
      },
      "source": [
        "<details><summary>Натисніть тут, щоб побачити підказку</summary>\n",
        "\n",
        "```python\n",
        "DATA_PATH = 'data/Data2.csv'\n",
        "\n",
        "# Зчитуємо файл із заданим розділяючим символом \";\"\n",
        "df = pd.read_csv(DATA_PATH, sep=';')\n",
        "\n",
        "'''\n",
        "Зауваження: попередній код зчитування з файлу підходить для\n",
        "файлів з кодуванням utf-8. Проте файл Data2.csv спочатку мав інше\n",
        "кодування. Дане кодування потрібно вказати в якості параметру:\n",
        "    \n",
        "'''\n",
        "\n",
        "df = pd.read_csv(DATA_PATH, sep=';', encoding='cp1252')\n",
        "\n",
        "\n",
        "```\n",
        "</details>\n",
        "\n",
        "\n"
      ]
    },
    {
      "cell_type": "markdown",
      "metadata": {
        "id": "jIgeTR6Rfm-0"
      },
      "source": [
        "Досліджую структуру даних\n"
      ]
    },
    {
      "cell_type": "code",
      "execution_count": null,
      "metadata": {
        "id": "pXT-K7XZfm-0",
        "outputId": "de8eb7d9-2323-4f92-c327-74996c70855e",
        "colab": {
          "base_uri": "https://localhost:8080/"
        }
      },
      "outputs": [
        {
          "output_type": "stream",
          "name": "stdout",
          "text": [
            "<class 'pandas.core.frame.DataFrame'>\n",
            "RangeIndex: 217 entries, 0 to 216\n",
            "Data columns (total 6 columns):\n",
            " #   Column          Non-Null Count  Dtype  \n",
            "---  ------          --------------  -----  \n",
            " 0   Country Name    217 non-null    object \n",
            " 1   Region          217 non-null    object \n",
            " 2   GDP per capita  190 non-null    object \n",
            " 3   Populatiion     216 non-null    float64\n",
            " 4   CO2 emission    205 non-null    object \n",
            " 5   Area            217 non-null    object \n",
            "dtypes: float64(1), object(5)\n",
            "memory usage: 10.3+ KB\n",
            "       Country Name                 Region GDP per capita   Populatiion  \\\n",
            "count           217                    217            190  2.160000e+02   \n",
            "unique          217                      7            190           NaN   \n",
            "top     Afghanistan  Europe & Central Asia    561,7787463           NaN   \n",
            "freq              1                     58              1           NaN   \n",
            "mean            NaN                    NaN            NaN  3.432256e+07   \n",
            "std             NaN                    NaN            NaN  1.347600e+08   \n",
            "min             NaN                    NaN            NaN  1.109700e+04   \n",
            "25%             NaN                    NaN            NaN  7.900265e+05   \n",
            "50%             NaN                    NaN            NaN  6.221590e+06   \n",
            "75%             NaN                    NaN            NaN  2.350337e+07   \n",
            "max             NaN                    NaN            NaN  1.378665e+09   \n",
            "\n",
            "       CO2 emission Area  \n",
            "count           205  217  \n",
            "unique          202  213  \n",
            "top        6318,241  460  \n",
            "freq              2    3  \n",
            "mean            NaN  NaN  \n",
            "std             NaN  NaN  \n",
            "min             NaN  NaN  \n",
            "25%             NaN  NaN  \n",
            "50%             NaN  NaN  \n",
            "75%             NaN  NaN  \n",
            "max             NaN  NaN  \n",
            "\n",
            "\n",
            "Типи даних:\n",
            " Country Name       object\n",
            "Region             object\n",
            "GDP per capita     object\n",
            "Populatiion       float64\n",
            "CO2 emission       object\n",
            "Area               object\n",
            "dtype: object\n",
            "\n",
            "\n",
            "Кількість NaN:\n",
            " Country Name       0\n",
            "Region             0\n",
            "GDP per capita    27\n",
            "Populatiion        1\n",
            "CO2 emission      12\n",
            "Area               0\n",
            "dtype: int64\n",
            "\n",
            "\n",
            "Унікальні записи у полі Region:\n",
            " ['South Asia' 'Europe & Central Asia' 'Middle East & North Africa'\n",
            " 'East Asia & Pacific' 'Sub-Saharan Africa' 'Latin America & Caribbean'\n",
            " 'North America']\n"
          ]
        }
      ],
      "source": [
        "# Напишіть ваш код нижче та натисніть Shift+Enter для виконання\n",
        "df.info()\n",
        "print(df.describe(include = \"all\"))\n",
        "df\n",
        "\n",
        "print(\"\\n\\nТипи даних:\\n\",df.dtypes)\n",
        "\n",
        "print(\"\\n\\nКількість NaN:\\n\", df.isna().sum())\n",
        "\n",
        "print('\\n\\nУнікальні записи у полі Region:\\n', df['Region'].unique()) #тут все ок"
      ]
    },
    {
      "cell_type": "markdown",
      "metadata": {
        "id": "teBUCeoRfm-0"
      },
      "source": [
        "Бачу наступні проблеми в даних:\n",
        "1. У назві одного з полів є typo: 'Populatiion'\n",
        "2. Невідповідність значень типам даних (у полів 'GDP per capita', 'CO2 emission' та 'Area' тип object, хоча має бути float, у поля 'Population' тип даних float, хоча кількість населення не може бути дробовим числом).\n",
        "3. Ця проблема буде виявлена після вирішення перших двух.\n",
        "4. Є пропущені значення в ознаках 'GDP per capita', 'CO2 emission', та 'Populatiion'\n"
      ]
    },
    {
      "cell_type": "markdown",
      "metadata": {
        "id": "opcwrhEHfm-0"
      },
      "source": [
        "<a name=\"task2\"></a> <div class=\"alert alert-danger alertdanger\" style=\"margin-top: 20px\">\n",
        "\n",
        "## <h2 id=\"task2\"> Завдання  #2: </h2>\n",
        "\n",
        "<p>Виправити помилки в даних</p>\n",
        "</div>\n"
      ]
    },
    {
      "cell_type": "markdown",
      "metadata": {
        "id": "qYJT_j4afm-1"
      },
      "source": [
        "<b>Проблема 1.</b>\n",
        "<p>\n",
        "    Для виправлення зроблю наступне: зміню назву стовпця\n",
        "</p>"
      ]
    },
    {
      "cell_type": "code",
      "execution_count": null,
      "metadata": {
        "id": "W5CyZ7IDfm-1",
        "outputId": "4d0a7803-c104-430d-e40e-56ef734611d4",
        "colab": {
          "base_uri": "https://localhost:8080/"
        }
      },
      "outputs": [
        {
          "output_type": "stream",
          "name": "stdout",
          "text": [
            "              Country Name                      Region GDP per capita  \\\n",
            "0              Afghanistan                  South Asia    561,7787463   \n",
            "1                  Albania       Europe & Central Asia     4124,98239   \n",
            "2                  Algeria  Middle East & North Africa    3916,881571   \n",
            "3           American Samoa         East Asia & Pacific    11834,74523   \n",
            "4                  Andorra       Europe & Central Asia    36988,62203   \n",
            "..                     ...                         ...            ...   \n",
            "212  Virgin Islands (U.S.)   Latin America & Caribbean            NaN   \n",
            "213     West Bank and Gaza  Middle East & North Africa    2943,404534   \n",
            "214            Yemen, Rep.  Middle East & North Africa     990,334774   \n",
            "215                 Zambia          Sub-Saharan Africa    1269,573537   \n",
            "216               Zimbabwe          Sub-Saharan Africa    1029,076649   \n",
            "\n",
            "     Population CO2 emission     Area  \n",
            "0    34656032.0     9809,225   652860  \n",
            "1     2876101.0     5716,853    28750  \n",
            "2    40606052.0   145400,217  2381740  \n",
            "3       55599.0          NaN      200  \n",
            "4       77281.0      462,042      470  \n",
            "..          ...          ...      ...  \n",
            "212    102951.0          NaN      350  \n",
            "213   4551566.0          NaN     6020  \n",
            "214  27584213.0     22698,73   527970  \n",
            "215  16591390.0     4503,076   752610  \n",
            "216  16150362.0    12020,426   390760  \n",
            "\n",
            "[217 rows x 6 columns]\n"
          ]
        }
      ],
      "source": [
        "# Напишіть ваш код нижче та натисніть Shift+Enter для виконання\n",
        "df.rename(columns={'Populatiion':'Population'}, inplace=True)\n",
        "print(df)"
      ]
    },
    {
      "cell_type": "markdown",
      "metadata": {
        "id": "4BGFQRhXfm-2"
      },
      "source": [
        "<b>Проблема 2.</b>\n",
        "<p>\n",
        "    Для виправлення зроблю наступне (опишіть, що хочете зробити)\n",
        "</p>"
      ]
    },
    {
      "cell_type": "code",
      "execution_count": null,
      "metadata": {
        "id": "mNg2vDSTfm-3",
        "colab": {
          "base_uri": "https://localhost:8080/"
        },
        "outputId": "205345e9-7694-465a-fe71-f91ede760b0a"
      },
      "outputs": [
        {
          "output_type": "stream",
          "name": "stdout",
          "text": [
            "\n",
            "\n",
            "Типи даних:\n",
            " Country Name       object\n",
            "Region             object\n",
            "GDP per capita    float64\n",
            "Population          int64\n",
            "CO2 emission      float64\n",
            "Area              float64\n",
            "dtype: object\n"
          ]
        }
      ],
      "source": [
        "# Напишіть ваш код нижче та натисніть Shift+Enter для виконання\n",
        "df['GDP per capita'] = df['GDP per capita'].str.replace(',', '.')\n",
        "df[['GDP per capita']] = df[['GDP per capita']].astype('float')\n",
        "\n",
        "df['CO2 emission'] = df['CO2 emission'].str.replace(',', '.')\n",
        "df[['CO2 emission']] = df[['CO2 emission']].astype('float')\n",
        "\n",
        "df = df[df['Area'].notna()]\n",
        "df['Area'] = df['Area'].str.replace(',', '.')\n",
        "df[['Area']] = df[['Area']].astype('float')\n",
        "\n",
        "df = df[df['Population'].notna()]\n",
        "df[['Population']] = df[['Population']].astype('int')\n",
        "\n",
        "print(\"\\n\\nТипи даних:\\n\",df.dtypes)\n"
      ]
    },
    {
      "cell_type": "markdown",
      "metadata": {
        "id": "9G3etq7mfm-4"
      },
      "source": [
        "<b>Проблема 3.</b>\n",
        "<p>\n",
        "    Для виявлення перевіримо чи всі дані є допутимими\n",
        "</p>"
      ]
    },
    {
      "cell_type": "code",
      "execution_count": null,
      "metadata": {
        "id": "Zasnv4rSfm-5",
        "colab": {
          "base_uri": "https://localhost:8080/"
        },
        "outputId": "81e647eb-fff0-4e5c-b659-0322bbeaf415"
      },
      "outputs": [
        {
          "output_type": "stream",
          "name": "stdout",
          "text": [
            "           Country Name                     Region  GDP per capita  \\\n",
            "56   Dominican Republic  Latin America & Caribbean    -6722.223536   \n",
            "135             Myanmar        East Asia & Pacific     1195.515372   \n",
            "\n",
            "     Population  CO2 emission      Area  \n",
            "56     10648791     21539.958   48670.0  \n",
            "135    52885223     21631.633 -676590.0  \n"
          ]
        }
      ],
      "source": [
        "print(df[(df['Population'] <= 0) | (df['Area'] <= 0) | (df['CO2 emission'] <= 0) | (df['GDP per capita'] <= 0)])"
      ]
    },
    {
      "cell_type": "markdown",
      "source": [
        "Проблема 3 полягає у тому, що значення 56 запису в полі 'GDP per capita' і 135 запису в полі 'Area' менше 0. Тобто дані невалідні.\n",
        "\n",
        "Для вирішення цієї проблеми замінимо невалідні дані на NaN, а що із ними робити вирішемо в завданні #3."
      ],
      "metadata": {
        "id": "k4YZwglkHh1a"
      }
    },
    {
      "cell_type": "code",
      "source": [
        "df.at[135, 'Area'] = np.nan\n",
        "df.at[56, 'GDP per capita'] = np.nan\n",
        "\n",
        "print(df.loc[56], '\\n\\n', df.loc[135])"
      ],
      "metadata": {
        "colab": {
          "base_uri": "https://localhost:8080/"
        },
        "id": "wXGq79qxJBZ2",
        "outputId": "cda8d64c-811f-4d3d-d003-556ad3183b44"
      },
      "execution_count": null,
      "outputs": [
        {
          "output_type": "stream",
          "name": "stdout",
          "text": [
            "Country Name             Dominican Republic\n",
            "Region            Latin America & Caribbean\n",
            "GDP per capita                          NaN\n",
            "Population                         10648791\n",
            "CO2 emission                      21539.958\n",
            "Area                                48670.0\n",
            "Name: 56, dtype: object \n",
            "\n",
            " Country Name                  Myanmar\n",
            "Region            East Asia & Pacific\n",
            "GDP per capita            1195.515372\n",
            "Population                   52885223\n",
            "CO2 emission                21631.633\n",
            "Area                              NaN\n",
            "Name: 135, dtype: object\n"
          ]
        }
      ]
    },
    {
      "cell_type": "markdown",
      "metadata": {
        "id": "lTeQh37Xfm-5"
      },
      "source": [
        "<a name=\"task3\"></a>\n",
        "<div class=\"alert alert-danger alertdanger\" style=\"margin-top: 20px\">\n",
        "\n",
        "## <h2 id=\"task3\"> Завдання  #3: </h2>\n",
        "\n",
        "<p>Заповнити пропуски</p>\n",
        "</div>\n"
      ]
    },
    {
      "cell_type": "markdown",
      "metadata": {
        "id": "MD1An9I9fm-6"
      },
      "source": [
        "У ознаки Population і Area відсутнє лише одне значення"
      ]
    },
    {
      "cell_type": "code",
      "source": [
        "print(df[df['Population'].isna()])"
      ],
      "metadata": {
        "colab": {
          "base_uri": "https://localhost:8080/"
        },
        "id": "CnH9PkgSz7f9",
        "outputId": "887e3409-7da5-4978-fdf4-de26e5990f95"
      },
      "execution_count": null,
      "outputs": [
        {
          "output_type": "stream",
          "name": "stdout",
          "text": [
            "   Country Name              Region GDP per capita  Population CO2 emission  \\\n",
            "61      Eritrea  Sub-Saharan Africa            NaN         NaN       696,73   \n",
            "\n",
            "      Area  \n",
            "61  117600  \n",
            "Empty DataFrame\n",
            "Columns: [Country Name, Region, GDP per capita, Population, CO2 emission, Area]\n",
            "Index: []\n"
          ]
        }
      ]
    },
    {
      "cell_type": "code",
      "source": [
        "print(df[df['Area'].isna()])"
      ],
      "metadata": {
        "colab": {
          "base_uri": "https://localhost:8080/"
        },
        "id": "amJtj9xGi4Vk",
        "outputId": "0b132f91-05b1-4bb7-cf30-087cd5877c22"
      },
      "execution_count": null,
      "outputs": [
        {
          "output_type": "stream",
          "name": "stdout",
          "text": [
            "    Country Name               Region  GDP per capita  Population  \\\n",
            "135      Myanmar  East Asia & Pacific     1195.515372    52885223   \n",
            "\n",
            "     CO2 emission  Area  \n",
            "135     21631.633   NaN  \n"
          ]
        }
      ]
    },
    {
      "cell_type": "markdown",
      "source": [
        "У запису під номером 61 також відсутню значення ознаки GDP per capita. Знайдемо пропущені поля цих країн в інтернеті.\n",
        "\n",
        "**Еритрея**\n",
        "\n",
        "Населення: 3.684 млн = 3684000\n",
        "\n",
        "ВВП на душу населення: 643,79\n",
        "\n",
        "\n",
        "**М'янма**\n",
        "\n",
        "Площа: 676578"
      ],
      "metadata": {
        "id": "fW0sYRpO0kTx"
      }
    },
    {
      "cell_type": "code",
      "execution_count": null,
      "metadata": {
        "id": "HC6TYoZkfm-7",
        "colab": {
          "base_uri": "https://localhost:8080/"
        },
        "outputId": "e9feef03-2afb-489b-9a04-61ced4f17acb"
      },
      "outputs": [
        {
          "output_type": "stream",
          "name": "stdout",
          "text": [
            "Country Name                 Eritrea\n",
            "Region            Sub-Saharan Africa\n",
            "GDP per capita                643.79\n",
            "Population                   3684000\n",
            "CO2 emission                  696.73\n",
            "Area                        117600.0\n",
            "Name: 61, dtype: object \n",
            "\n",
            " Country Name                  Myanmar\n",
            "Region            East Asia & Pacific\n",
            "GDP per capita            1195.515372\n",
            "Population                   52885223\n",
            "CO2 emission                21631.633\n",
            "Area                         676578.0\n",
            "Name: 135, dtype: object\n"
          ]
        }
      ],
      "source": [
        "# Напишіть ваш код нижче та натисніть Shift+Enter для виконання\n",
        "df.at[61, 'Population'] = 3684000\n",
        "df.at[61, 'GDP per capita'] = 643.79\n",
        "\n",
        "df.at[135, 'Area'] = 676578\n",
        "\n",
        "print(df.loc[61],'\\n\\n', df.loc[135])"
      ]
    },
    {
      "cell_type": "markdown",
      "source": [
        "Обчислимо середнє арифметичне мат. сподівання відношення площі до викидів СО2 і кількості населення до викидів СО2. За цією величиною визначимо кількість викидів у пропущених даних."
      ],
      "metadata": {
        "id": "WRwM-E5YLbJn"
      }
    },
    {
      "cell_type": "code",
      "source": [
        "for_co2 = ((df['Area']/df['CO2 emission']).mean() + (df['Population']/df['CO2 emission']).mean())/2\n",
        "\n",
        "print(for_co2)"
      ],
      "metadata": {
        "colab": {
          "base_uri": "https://localhost:8080/"
        },
        "id": "Tk5gnCp0OU3Z",
        "outputId": "626e1350-fc45-4262-e4b8-851349dbcc88"
      },
      "execution_count": null,
      "outputs": [
        {
          "output_type": "stream",
          "name": "stdout",
          "text": [
            "897.0671670946242\n"
          ]
        }
      ]
    },
    {
      "cell_type": "markdown",
      "source": [
        "Маємо формулу для знаходження викидів вуглекислого газу\n",
        "\n",
        "CO2 emission = (Area+Population)/(2*for_co2)"
      ],
      "metadata": {
        "id": "-2IqN6oZQGpV"
      }
    },
    {
      "cell_type": "code",
      "source": [
        "df['CO2 emission'] = df['CO2 emission'].fillna((df['Area'] + df['Population']) / (2 * for_co2))"
      ],
      "metadata": {
        "id": "maFd7OnIQk_L"
      },
      "execution_count": null,
      "outputs": []
    },
    {
      "cell_type": "code",
      "source": [
        "print(\"\\n\\nКількість NaN:\\n\", df.isna().sum())"
      ],
      "metadata": {
        "colab": {
          "base_uri": "https://localhost:8080/"
        },
        "id": "YSUyuR2iR_l5",
        "outputId": "e9f4b5ea-d398-4bd6-d6ee-c3aa9cb2632f"
      },
      "execution_count": null,
      "outputs": [
        {
          "output_type": "stream",
          "name": "stdout",
          "text": [
            "\n",
            "\n",
            "Кількість NaN:\n",
            " Country Name       0\n",
            "Region             0\n",
            "GDP per capita    27\n",
            "Population         0\n",
            "CO2 emission       0\n",
            "Area               0\n",
            "dtype: int64\n"
          ]
        }
      ]
    },
    {
      "cell_type": "markdown",
      "source": [
        "Пропущені дані для GDP визначимо таким самим чином"
      ],
      "metadata": {
        "id": "r-JEMh_Nkz7L"
      }
    },
    {
      "cell_type": "code",
      "source": [
        "for_gdp = ((df['Area']/df['GDP per capita']).mean() + (df['Population']/df['GDP per capita']).mean())/2\n",
        "\n",
        "df['GDP per capita'] = df['GDP per capita'].fillna((df['Area'] + df['Population']) / (2 * for_gdp))"
      ],
      "metadata": {
        "id": "DOuTwNrlk6_f"
      },
      "execution_count": null,
      "outputs": []
    },
    {
      "cell_type": "markdown",
      "metadata": {
        "id": "iGhx3Cw7fm-7"
      },
      "source": [
        "Досліджую структуру даних, чи всі пропуски заповнено\n"
      ]
    },
    {
      "cell_type": "code",
      "execution_count": null,
      "metadata": {
        "id": "QtrnYqlUfm-8",
        "colab": {
          "base_uri": "https://localhost:8080/"
        },
        "outputId": "4294a106-6e1c-453d-df0c-03d639626be1"
      },
      "outputs": [
        {
          "output_type": "stream",
          "name": "stdout",
          "text": [
            "\n",
            "\n",
            "Кількість NaN:\n",
            " Country Name      0\n",
            "Region            0\n",
            "GDP per capita    0\n",
            "Population        0\n",
            "CO2 emission      0\n",
            "Area              0\n",
            "dtype: int64\n"
          ]
        }
      ],
      "source": [
        "# Напишіть ваш код нижче та натисніть Shift+Enter для виконання\n",
        "print(\"\\n\\nКількість NaN:\\n\", df.isna().sum())"
      ]
    },
    {
      "cell_type": "markdown",
      "metadata": {
        "id": "L933nLdAfm-8"
      },
      "source": [
        " <a name=\"task4\"></a>\n",
        " <div class=\"alert alert-danger alertdanger\" style=\"margin-top: 20px\">\n",
        "\n",
        "## <h2 id=\"task4\"> Завдання  #4: </h2>\n",
        "\n",
        "<p>Додати стовпчик із щільністю населення</p>\n",
        "</div>\n"
      ]
    },
    {
      "cell_type": "markdown",
      "metadata": {
        "id": "WtoIZHHtfm-9"
      },
      "source": [
        "Щільність населення розрахую по формулі Population/Area і додам у стовпчик Density.\n"
      ]
    },
    {
      "cell_type": "code",
      "execution_count": null,
      "metadata": {
        "id": "ebYy725afm--",
        "colab": {
          "base_uri": "https://localhost:8080/"
        },
        "outputId": "cdcf8362-62d5-4e30-bd79-6139f9f6ed3f"
      },
      "outputs": [
        {
          "output_type": "stream",
          "name": "stdout",
          "text": [
            "              Country Name                      Region  GDP per capita  \\\n",
            "0              Afghanistan                  South Asia      561.778746   \n",
            "1                  Albania       Europe & Central Asia     4124.982390   \n",
            "2                  Algeria  Middle East & North Africa     3916.881571   \n",
            "3           American Samoa         East Asia & Pacific    11834.745230   \n",
            "4                  Andorra       Europe & Central Asia    36988.622030   \n",
            "..                     ...                         ...             ...   \n",
            "212  Virgin Islands (U.S.)   Latin America & Caribbean        6.327732   \n",
            "213     West Bank and Gaza  Middle East & North Africa     2943.404534   \n",
            "214            Yemen, Rep.  Middle East & North Africa      990.334774   \n",
            "215                 Zambia          Sub-Saharan Africa     1269.573537   \n",
            "216               Zimbabwe          Sub-Saharan Africa     1029.076649   \n",
            "\n",
            "     Population   CO2 emission       Area     Density  \n",
            "0      34656032    9809.225000   652860.0   53.083405  \n",
            "1       2876101    5716.853000    28750.0  100.038296  \n",
            "2      40606052  145400.217000  2381740.0   17.048902  \n",
            "3         55599      31.100793      200.0  277.995000  \n",
            "4         77281     462.042000      470.0  164.427660  \n",
            "..          ...            ...        ...         ...  \n",
            "212      102951      57.577071      350.0  294.145714  \n",
            "213     4551566    2540.270209     6020.0  756.074086  \n",
            "214    27584213   22698.730000   527970.0   52.245796  \n",
            "215    16591390    4503.076000   752610.0   22.045136  \n",
            "216    16150362   12020.426000   390760.0   41.330643  \n",
            "\n",
            "[217 rows x 7 columns]\n"
          ]
        }
      ],
      "source": [
        "# Напишіть ваш код нижче та натисніть Shift+Enter для виконання\n",
        "df['Density'] = df['Population']/df['Area']\n",
        "print(df)"
      ]
    },
    {
      "cell_type": "markdown",
      "metadata": {
        "id": "F9BEh-gRfm--"
      },
      "source": [
        "<a name=\"task5\"></a>\n",
        " <div class=\"alert alert-danger alertdanger\" style=\"margin-top: 20px\">\n",
        "\n",
        "## <h2 id=\"task5\"> Завдання  #5: </h2>\n",
        "\n",
        "<p>Побудувати діаграми розмаху та гістограми</p>\n",
        "</div>\n"
      ]
    },
    {
      "cell_type": "markdown",
      "metadata": {
        "id": "LbEM1HKzfm-_"
      },
      "source": [
        "Для побудови графіків скористайтесь бібліотекою Matplotlib. Спробуйте погратись з кольорами, розмірами та підписами.\n"
      ]
    },
    {
      "cell_type": "code",
      "execution_count": null,
      "metadata": {
        "id": "iHDzD70ifm-_",
        "colab": {
          "base_uri": "https://localhost:8080/",
          "height": 1000
        },
        "outputId": "a26c82a4-f96f-4d93-894f-834a81fd4521"
      },
      "outputs": [
        {
          "output_type": "display_data",
          "data": {
            "text/plain": [
              "<Figure size 1600x2000 with 4 Axes>"
            ],
            "image/png": "[encoded data removed]"
          },
          "metadata": {}
        }
      ],
      "source": [
        "# Напишіть ваш код нижче та натисніть Shift+Enter для виконання\n",
        "import matplotlib.pyplot as plt\n",
        "\n",
        "fig, axs = plt.subplots(1, 4, figsize=(16, 20))\n",
        "\n",
        "fig.suptitle('Діаграми розмаху', fontsize=16)\n",
        "\n",
        "axs[0].set_title('GDP per capita')\n",
        "axs[0].boxplot(df['GDP per capita'])\n",
        "\n",
        "axs[1].set_title('Population')\n",
        "axs[1].boxplot(df['Population'])\n",
        "\n",
        "axs[2].set_title('CO2 emission')\n",
        "axs[2].boxplot(df['CO2 emission'])\n",
        "\n",
        "axs[3].set_title('Area')\n",
        "axs[3].boxplot(df['Area'])\n",
        "\n",
        "plt.show()"
      ]
    },
    {
      "cell_type": "markdown",
      "metadata": {
        "id": "0ZJv7MFdfm-_"
      },
      "source": [
        "<details><summary>Натисніть тут, щоб побачити підказку</summary>\n",
        "\n",
        "```python\n",
        "# Імпортуємо бібліотеку Matplotlib\n",
        "import matplotlib.pyplot as plt\n",
        "    \n",
        "# діаграми розмаху для \"GDP per capita\", \"Population\", \"CO2 emission\" та \"Area\"\n",
        "\n",
        "fig, axs = plt.subplots(1, 4, figsize=(16, 4))\n",
        "\n",
        "fig.suptitle('Діаграми розмаху', fontsize=16)\n",
        "\n",
        "axs[0].set_title('GDP per capita')\n",
        "axs[0].boxplot(df['GDP per capita'])\n",
        "\n",
        "axs[1].set_title('Population')\n",
        "axs[1].boxplot(df['Population'])\n",
        "\n",
        "axs[2].set_title('CO2 emission')\n",
        "axs[2].boxplot(df['CO2 emission'])\n",
        "\n",
        "axs[3].set_title('Area')\n",
        "axs[3].boxplot(df['Area'])\n",
        "\n",
        "plt.show()\n",
        "\n",
        "```\n",
        "</details>\n",
        "\n",
        "\n"
      ]
    },
    {
      "cell_type": "markdown",
      "metadata": {
        "id": "gdAyPVkKfm-_"
      },
      "source": [
        "<a name=\"task6\"></a>\n",
        " <div class=\"alert alert-success alertsuccess\" style=\"margin-top: 20px\">\n",
        "\n",
        "## <h2 id=\"task6\"> Додаткове завдання: </h2>\n",
        "\n",
        "<p>Дайте відповіді на питання</p>\n",
        "</div>\n"
      ]
    },
    {
      "cell_type": "markdown",
      "metadata": {
        "id": "cfsU568Qfm-_"
      },
      "source": [
        "1. Яка країна має найбільший ВВП на людину (GDP per capita)?\n",
        "2. Яка країна має найменшу площу?\n",
        "3. Знайдіть країну з найбільшою щільністю населення у світі? У Європі та центральній Азії?\n",
        "4. Покажіть топ 5 країн та 5 останніх країн по ВВП на людину.\n",
        "\n"
      ]
    },
    {
      "cell_type": "markdown",
      "metadata": {
        "id": "KuUkkLVifm_A"
      },
      "source": [
        "<details><summary>Натисніть тут, щоб побачити підказку</summary>\n",
        "    \n",
        "Скористайтесь методами <code>loc()</code> для повернення зрізу датафрейму, <code>idxmax()</code> для повернення номера рядка з найбільшим значенням якогось показника у стовпці та <code>idxmin()</code> для повернення номера рядка з найменшим значенням якогось показника у стовпці\n",
        "    \n",
        "```python\n",
        "df.loc[df['GDP per capita'].idxmax()]\n",
        "\n",
        "```\n",
        "    \n",
        "Гарно оформити виведення інформації допоможе <code>print()</code>  \n",
        "```python\n",
        "print('\\n' + df.loc[df['GDP per capita'].idxmax(), 'Country Name'] + ' має найбільший ВВП на людину')\n",
        "```   \n",
        "  \n",
        "</details>\n"
      ]
    },
    {
      "cell_type": "code",
      "execution_count": null,
      "metadata": {
        "id": "NyuNxLl5fm_A",
        "colab": {
          "base_uri": "https://localhost:8080/"
        },
        "outputId": "15cb3be2-a610-4ffa-d17f-0456a9d3d1a4"
      },
      "outputs": [
        {
          "output_type": "stream",
          "name": "stdout",
          "text": [
            "\n",
            "Luxembourg має найбільший ВВП на людину\n"
          ]
        }
      ],
      "source": [
        "# 1\n",
        "print('\\n' + df.loc[df['GDP per capita'].idxmax(), 'Country Name'] + ' має найбільший ВВП на людину')"
      ]
    },
    {
      "cell_type": "code",
      "source": [
        "#2\n",
        "print('\\n' + df.loc[df['Area'].idxmin(), 'Country Name'] + ' має найменшу площу')"
      ],
      "metadata": {
        "colab": {
          "base_uri": "https://localhost:8080/"
        },
        "id": "tExi_EUzoX_f",
        "outputId": "d0d54ba3-3a32-484e-d6b1-98c0cfd15d61"
      },
      "execution_count": null,
      "outputs": [
        {
          "output_type": "stream",
          "name": "stdout",
          "text": [
            "\n",
            "Monaco має найменшу площу\n"
          ]
        }
      ]
    },
    {
      "cell_type": "code",
      "source": [
        "#3\n",
        "print('\\n' + df.loc[df['Density'].idxmax(), 'Country Name'] + ' має найбільшу щільність населення у світі')\n",
        "print('\\n' + df[df['Region'] == 'Europe & Central Asia'].loc[df[df['Region'] == 'Europe & Central Asia']['Density'].idxmax(), 'Country Name'] + ' має найбільшу щільність населення у Європі та центральній Азії')"
      ],
      "metadata": {
        "colab": {
          "base_uri": "https://localhost:8080/"
        },
        "id": "5oXZDZI7ooym",
        "outputId": "87a7826b-cc78-4b33-c1d5-3d9a051e0dff"
      },
      "execution_count": null,
      "outputs": [
        {
          "output_type": "stream",
          "name": "stdout",
          "text": [
            "\n",
            "Macao SAR, China має найбільшу щільність населення у світі\n",
            "\n",
            "Monaco має найбільшу щільність населення у Європі та центральній Азії\n"
          ]
        }
      ]
    },
    {
      "cell_type": "markdown",
      "metadata": {
        "id": "DlOBUvZjfm_A"
      },
      "source": [
        "Збережіть дані у новий файл 'clean_data2.csv':\n"
      ]
    },
    {
      "cell_type": "code",
      "execution_count": null,
      "metadata": {
        "id": "rQCcwLPEfm_A"
      },
      "outputs": [],
      "source": [
        "# Напишіть ваш код нижче та натисніть Shift+Enter для виконання\n",
        "df.to_csv('clean_data2.csv', index=False)"
      ]
    },
    {
      "cell_type": "markdown",
      "metadata": {
        "id": "0Ur97mmBfm_A"
      },
      "source": [
        "<h2>Виконав студент групи ІП-24  <br>Новиков Гліб</h2>\n"
      ]
    }
  ],
  "metadata": {
    "kernelspec": {
      "display_name": "Python 3",
      "language": "python",
      "name": "python3"
    },
    "language_info": {
      "codemirror_mode": {
        "name": "ipython",
        "version": 3
      },
      "file_extension": ".py",
      "mimetype": "text/x-python",
      "name": "python",
      "nbconvert_exporter": "python",
      "pygments_lexer": "ipython3",
      "version": "3.8.5"
    },
    "colab": {
      "provenance": []
    }
  },
  "nbformat": 4,
  "nbformat_minor": 0
}